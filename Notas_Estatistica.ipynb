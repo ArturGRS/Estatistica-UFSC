{
 "cells": [
  {
   "cell_type": "markdown",
   "metadata": {},
   "source": [
    "## Anotações de Estatística"
   ]
  },
  {
   "cell_type": "markdown",
   "metadata": {},
   "source": [
    "### Medidas Descritivas"
   ]
  },
  {
   "cell_type": "code",
   "execution_count": null,
   "metadata": {},
   "outputs": [],
   "source": [
    "import pandas as pd\n",
    "import numpy as np\n",
    "import statistics\n",
    "\n",
    "lista = pd.read_csv('')\n",
    "\n",
    "media = np.mean(lista)\n",
    "\n",
    "mediana = np.median(lista)\n",
    "\n",
    "moda = statistics.multimode(lista)\n",
    "\n",
    "#moda = np.argmax(np.bincount(lista))\n",
    "\n",
    "desvio_padrao = np.std(lista)\n",
    "\n",
    "minimo = min(lista)\n",
    "\n",
    "maximo = max(lista)\n",
    "\n",
    "print(\"Média: \",media)\n",
    "\n",
    "print(\"Moda: \", moda)\n",
    "\n",
    "print(\"Desvio padrão: \", desvio_padrao)\n",
    "\n",
    "print(\"Mediana: \",mediana)\n",
    "\n",
    "print(\"Mínimo: \", minimo,\"Máximo: \", maximo)"
   ]
  },
  {
   "cell_type": "markdown",
   "metadata": {},
   "source": [
    "### Gráficos"
   ]
  },
  {
   "cell_type": "code",
   "execution_count": 2,
   "metadata": {},
   "outputs": [],
   "source": [
    "# Declaração das bibliotecas\n",
    "import seaborn as sns\n",
    "import pandas as pd\n",
    "import matplotlib.pyplot as plt\n"
   ]
  },
  {
   "cell_type": "code",
   "execution_count": null,
   "metadata": {},
   "outputs": [],
   "source": [
    "# Importação da Base\n",
    "Base = pd.read_csv('Bases de Dados\\Tabela_para_data_frame_2023-2.csv')\n",
    "display(Base)"
   ]
  },
  {
   "cell_type": "code",
   "execution_count": null,
   "metadata": {},
   "outputs": [],
   "source": [
    "#BoxPlot\n",
    "sns.boxplot(Base)"
   ]
  },
  {
   "cell_type": "code",
   "execution_count": null,
   "metadata": {},
   "outputs": [],
   "source": [
    "#Histograma\n",
    "sns.histplot(data = Base, x = [\"Estudante 1\",\"Estudante 2\",\"Estudante 3\",\"Estudante 4\"], bins=7)"
   ]
  },
  {
   "cell_type": "code",
   "execution_count": null,
   "metadata": {},
   "outputs": [],
   "source": [
    "#Pontos Distribuidos\n",
    "sns.relplot(data = Base)"
   ]
  },
  {
   "cell_type": "markdown",
   "metadata": {},
   "source": [
    "> Documentação\n",
    "\n",
    "1. Boxplot:\n",
    "    https://seaborn.pydata.org/generated/seaborn.boxplot.html\n",
    "2. Histograma:\n",
    "    https://seaborn.pydata.org/generated/seaborn.histplot.html#seaborn.histplot\n",
    "3. Diagrama de Pontos:\n",
    "    https://seaborn.pydata.org/generated/seaborn.relplot.html\n",
    "4. Pontos Distribuidos: \n",
    "    https://seaborn.pydata.org/generated/seaborn.relplot.html#seaborn.relplot\n",
    "\n",
    "Geral: https://seaborn.pydata.org/api.html#distribution-api"
   ]
  },
  {
   "cell_type": "markdown",
   "metadata": {},
   "source": [
    "## Anotações de Probabilidade"
   ]
  },
  {
   "cell_type": "markdown",
   "metadata": {},
   "source": [
    "### Probabilidade de um evento ocorrer"
   ]
  },
  {
   "cell_type": "code",
   "execution_count": 7,
   "metadata": {},
   "outputs": [
    {
     "name": "stdout",
     "output_type": "stream",
     "text": [
      "30.14 %\n"
     ]
    }
   ],
   "source": [
    "Espaco_Amostral = 2 + 18 + 70 + 168 + 192 +  270 + 74 + 54 + 8 \n",
    "Casos = 2 + 18 + 70 + 168\n",
    "print(\"%.2f\" % ((Casos/Espaco_Amostral)*100),\"%\")"
   ]
  }
 ],
 "metadata": {
  "kernelspec": {
   "display_name": "Python 3",
   "language": "python",
   "name": "python3"
  },
  "language_info": {
   "codemirror_mode": {
    "name": "ipython",
    "version": 3
   },
   "file_extension": ".py",
   "mimetype": "text/x-python",
   "name": "python",
   "nbconvert_exporter": "python",
   "pygments_lexer": "ipython3",
   "version": "3.12.5"
  }
 },
 "nbformat": 4,
 "nbformat_minor": 2
}
