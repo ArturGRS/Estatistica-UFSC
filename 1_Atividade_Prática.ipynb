{
 "cells": [
  {
   "cell_type": "markdown",
   "metadata": {},
   "source": [
    "#### Aquisição de dados\n",
    "\n",
    "1. Realize 10 medições de tempo de reação para cada membro (Anote em ms). \n",
    "2. Conversão dos resultados obtidos em $ d $ mm para ms:\n",
    "\\begin{equation*}\n",
    "    t = \\sqrt((2000/g)*d)\n",
    "\\end{equation*}"
   ]
  },
  {
   "cell_type": "code",
   "execution_count": 2,
   "metadata": {},
   "outputs": [],
   "source": [
    "#Import de bibliotecas\n",
    "import pandas as pd\n",
    "import seaborn as sns"
   ]
  },
  {
   "cell_type": "code",
   "execution_count": null,
   "metadata": {},
   "outputs": [],
   "source": [
    "#Leitura da base de dados\n",
    "Data_Base = pd.read_csv('Bases de Dados\\Tabela_para_data_frame_2023-2.csv')\n",
    "\n",
    "#Trabalhar os dados para deixa tudo em uma mesma coluna! Isso fará com que o \n",
    "#Boxplot seja unificado!\n",
    "vetor = []\n",
    "for i in Data_Base.columns:\n",
    "    for j in Data_Base.index:\n",
    "        vetor.append(Data_Base[i][j])"
   ]
  },
  {
   "cell_type": "code",
   "execution_count": null,
   "metadata": {},
   "outputs": [],
   "source": [
    "#Histograma Geral\n",
    "sns.histplot(data = vetor, bins = 7,multiple=\"stack\" )"
   ]
  },
  {
   "cell_type": "code",
   "execution_count": null,
   "metadata": {},
   "outputs": [],
   "source": [
    "#Boxplot individual\n",
    "sns.boxplot(data = vetor)"
   ]
  }
 ],
 "metadata": {
  "kernelspec": {
   "display_name": "Python 3",
   "language": "python",
   "name": "python3"
  },
  "language_info": {
   "codemirror_mode": {
    "name": "ipython",
    "version": 3
   },
   "file_extension": ".py",
   "mimetype": "text/x-python",
   "name": "python",
   "nbconvert_exporter": "python",
   "pygments_lexer": "ipython3",
   "version": "3.12.5"
  }
 },
 "nbformat": 4,
 "nbformat_minor": 2
}
