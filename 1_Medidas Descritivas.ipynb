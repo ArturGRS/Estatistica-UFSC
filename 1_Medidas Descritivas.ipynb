{
 "cells": [
  {
   "cell_type": "markdown",
   "metadata": {},
   "source": [
    "### Medidas Descritivas"
   ]
  },
  {
   "cell_type": "code",
   "execution_count": null,
   "metadata": {},
   "outputs": [],
   "source": [
    "import pandas as pd\n",
    "import numpy as np\n",
    "from scipy import stats\n",
    "import statistics\n",
    "\n",
    "lista = pd.read_csv('Dados_da_aula.csv')\n",
    "\n",
    "media = np.mean(lista)\n",
    "\n",
    "mediana = np.median(lista)\n",
    "\n",
    "moda = statistics.multimode(lista)\n",
    "\n",
    "#moda = np.argmax(np.bincount(lista))\n",
    "\n",
    "desvio_padrao = np.std(lista)\n",
    "\n",
    "minimo = min(lista)\n",
    "\n",
    "maximo = max(lista)\n",
    "\n",
    "print(\"Média: \",media)\n",
    "\n",
    "print(\"Moda: \", moda)\n",
    "\n",
    "print(\"Desvio padrão: \", desvio_padrao)\n",
    "\n",
    "print(\"Mediana: \",mediana)\n",
    "\n",
    "print(\"Mínimo: \", minimo,\"Máximo: \", maximo)"
   ]
  }
 ],
 "metadata": {
  "kernelspec": {
   "display_name": "Python 3",
   "language": "python",
   "name": "python3"
  },
  "language_info": {
   "codemirror_mode": {
    "name": "ipython",
    "version": 3
   },
   "file_extension": ".py",
   "mimetype": "text/x-python",
   "name": "python",
   "nbconvert_exporter": "python",
   "pygments_lexer": "ipython3",
   "version": "3.12.5"
  }
 },
 "nbformat": 4,
 "nbformat_minor": 2
}
